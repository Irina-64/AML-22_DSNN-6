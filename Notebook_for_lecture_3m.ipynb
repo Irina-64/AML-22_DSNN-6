{
  "cells": [
    {
      "cell_type": "markdown",
      "metadata": {
        "id": "view-in-github",
        "colab_type": "text"
      },
      "source": [
        "<a href=\"https://colab.research.google.com/github/Irina-64/AML-22_DSNN-6/blob/main/Notebook_for_lecture_3m.ipynb\" target=\"_parent\"><img src=\"https://colab.research.google.com/assets/colab-badge.svg\" alt=\"Open In Colab\"/></a>"
      ]
    },
    {
      "cell_type": "markdown",
      "metadata": {
        "id": "wam9bqBX-PT4"
      },
      "source": [
        "# Классификация MNIST сверточной сетью\n",
        "\n",
        "https://www.kaggle.com/c/digit-recognizer"
      ]
    },
    {
      "cell_type": "code",
      "execution_count": 1,
      "metadata": {
        "colab": {
          "base_uri": "https://localhost:8080/"
        },
        "id": "7GXdhb_G-vkc",
        "outputId": "9778b4e5-4b8c-4025-8854-230ee5442adc"
      },
      "outputs": [
        {
          "output_type": "stream",
          "name": "stdout",
          "text": [
            "--2022-03-28 16:10:22--  https://www.dropbox.com/s/9wrovo5cugw8xdu/digit-recognizer.zip\n",
            "Resolving www.dropbox.com (www.dropbox.com)... 162.125.3.18, 2620:100:6018:18::a27d:312\n",
            "Connecting to www.dropbox.com (www.dropbox.com)|162.125.3.18|:443... connected.\n",
            "HTTP request sent, awaiting response... 301 Moved Permanently\n",
            "Location: /s/raw/9wrovo5cugw8xdu/digit-recognizer.zip [following]\n",
            "--2022-03-28 16:10:22--  https://www.dropbox.com/s/raw/9wrovo5cugw8xdu/digit-recognizer.zip\n",
            "Reusing existing connection to www.dropbox.com:443.\n",
            "HTTP request sent, awaiting response... 302 Found\n",
            "Location: https://uc965db77558c08d9a5aa2f1d3fd.dl.dropboxusercontent.com/cd/0/inline/BiWlTKgbvBh_gNkYuL6bJqL0ncyJL9T3ViBbflIMZQq181R3XRldeQlNYyvwiHlKWDXmq864Fujudm--ay45W-hzduJ7X-EAu_H5WeR2yyi3UjlBU3Ihw4P2ZdhJUOpClAHt-6dsN8R928NWkOoW01E1FeV-gU6kJXNoo4B-H-RomQ/file# [following]\n",
            "--2022-03-28 16:10:23--  https://uc965db77558c08d9a5aa2f1d3fd.dl.dropboxusercontent.com/cd/0/inline/BiWlTKgbvBh_gNkYuL6bJqL0ncyJL9T3ViBbflIMZQq181R3XRldeQlNYyvwiHlKWDXmq864Fujudm--ay45W-hzduJ7X-EAu_H5WeR2yyi3UjlBU3Ihw4P2ZdhJUOpClAHt-6dsN8R928NWkOoW01E1FeV-gU6kJXNoo4B-H-RomQ/file\n",
            "Resolving uc965db77558c08d9a5aa2f1d3fd.dl.dropboxusercontent.com (uc965db77558c08d9a5aa2f1d3fd.dl.dropboxusercontent.com)... 162.125.3.15, 2620:100:6018:15::a27d:30f\n",
            "Connecting to uc965db77558c08d9a5aa2f1d3fd.dl.dropboxusercontent.com (uc965db77558c08d9a5aa2f1d3fd.dl.dropboxusercontent.com)|162.125.3.15|:443... connected.\n",
            "HTTP request sent, awaiting response... 302 Found\n",
            "Location: /cd/0/inline2/BiUpx7URopyWwarFUMnjdRqAIz9d2mo8TGy1cL0m4ncg3d_b4bPCvtQLrLKdCOpB0Oq6wI7FHLI2hWypxJW8_qtOimmlJVU-_qVj3-HV-w-caFyiwm4HmvS9iqOfs9yLNZAo2BKFNFWJmdNGe14O8VA1AIjsy07BJtzsfGOT3Fa77vJLbbz02VdeiWSw3iSt9ynK2kXkhz9ZGoJjjFqipHOqotj-2_B1Mo2o5ZUqC6TiwQjm0pvFp8XHLlpUeEUIP-oSnAvbKHTAUXC2FoSpUvK5IT23rODEk9Z69aL0ZTb9de_dSKzGEdv1TMfgoXmpuMV_xpRc0XwbZ777fIz1kKoUM87STGmujjip3wKW0Viac3DYNqnRDFAYoTA-LUyPOkTutuux7eP1BYcLjl8x9-Kkj69VgEdFQ5wBQASKg5160w/file [following]\n",
            "--2022-03-28 16:10:23--  https://uc965db77558c08d9a5aa2f1d3fd.dl.dropboxusercontent.com/cd/0/inline2/BiUpx7URopyWwarFUMnjdRqAIz9d2mo8TGy1cL0m4ncg3d_b4bPCvtQLrLKdCOpB0Oq6wI7FHLI2hWypxJW8_qtOimmlJVU-_qVj3-HV-w-caFyiwm4HmvS9iqOfs9yLNZAo2BKFNFWJmdNGe14O8VA1AIjsy07BJtzsfGOT3Fa77vJLbbz02VdeiWSw3iSt9ynK2kXkhz9ZGoJjjFqipHOqotj-2_B1Mo2o5ZUqC6TiwQjm0pvFp8XHLlpUeEUIP-oSnAvbKHTAUXC2FoSpUvK5IT23rODEk9Z69aL0ZTb9de_dSKzGEdv1TMfgoXmpuMV_xpRc0XwbZ777fIz1kKoUM87STGmujjip3wKW0Viac3DYNqnRDFAYoTA-LUyPOkTutuux7eP1BYcLjl8x9-Kkj69VgEdFQ5wBQASKg5160w/file\n",
            "Reusing existing connection to uc965db77558c08d9a5aa2f1d3fd.dl.dropboxusercontent.com:443.\n",
            "HTTP request sent, awaiting response... 200 OK\n",
            "Length: 16054568 (15M) [application/zip]\n",
            "Saving to: ‘digit-recognizer.zip’\n",
            "\n",
            "digit-recognizer.zi 100%[===================>]  15.31M  67.1MB/s    in 0.2s    \n",
            "\n",
            "2022-03-28 16:10:23 (67.1 MB/s) - ‘digit-recognizer.zip’ saved [16054568/16054568]\n",
            "\n",
            "Archive:  digit-recognizer.zip\n",
            "  inflating: sample_submission.csv   \n",
            "  inflating: test.csv                \n",
            "  inflating: train.csv               \n"
          ]
        }
      ],
      "source": [
        "!wget https://www.dropbox.com/s/9wrovo5cugw8xdu/digit-recognizer.zip\n",
        "!unzip digit-recognizer.zip "
      ]
    },
    {
      "cell_type": "code",
      "execution_count": 23,
      "metadata": {
        "colab": {
          "base_uri": "https://localhost:8080/"
        },
        "id": "MYMa35NN-PT-",
        "outputId": "5988d139-8fed-4a8d-c259-cd5aece0c118"
      },
      "outputs": [
        {
          "output_type": "stream",
          "name": "stdout",
          "text": [
            "2.8.0\n",
            "True\n"
          ]
        }
      ],
      "source": [
        "import cv2\n",
        "import numpy as np\n",
        "import tensorflow as tf\n",
        "\n",
        "print(tf.__version__)\n",
        "print(tf.executing_eagerly())"
      ]
    },
    {
      "cell_type": "code",
      "execution_count": 24,
      "metadata": {
        "id": "WGgwb7uR-PUA"
      },
      "outputs": [],
      "source": [
        "train = np.loadtxt('train.csv', delimiter=',', skiprows=1)\n",
        "test = np.loadtxt('test.csv', delimiter=',', skiprows=1)"
      ]
    },
    {
      "cell_type": "code",
      "source": [
        "train.shape, test.shape"
      ],
      "metadata": {
        "colab": {
          "base_uri": "https://localhost:8080/"
        },
        "id": "ef_gr7f3nwCu",
        "outputId": "5b13719e-ecca-4627-df93-71438c951f45"
      },
      "execution_count": 25,
      "outputs": [
        {
          "output_type": "execute_result",
          "data": {
            "text/plain": [
              "((42000, 785), (28000, 784))"
            ]
          },
          "metadata": {},
          "execution_count": 25
        }
      ]
    },
    {
      "cell_type": "code",
      "execution_count": 26,
      "metadata": {
        "id": "YxCmQ8p6-PUA"
      },
      "outputs": [],
      "source": [
        "# сохраняем разметку в отдельную переменную\n",
        "train_label = train[:, 0]\n",
        "\n",
        "# приводим размерность к удобному для обаботки виду\n",
        "# добавляем размерность канала\n",
        "train_img = np.resize(train[:, 1:], (train.shape[0], 28, 28, 1))\n",
        "test_img = np.resize(test, (test.shape[0], 28, 28, 1))"
      ]
    },
    {
      "cell_type": "markdown",
      "metadata": {
        "id": "AfJmhSd8-PUB"
      },
      "source": [
        "## Визуализируем исходные данные"
      ]
    },
    {
      "cell_type": "code",
      "execution_count": 27,
      "metadata": {
        "colab": {
          "base_uri": "https://localhost:8080/",
          "height": 256
        },
        "id": "krOeCzpp-PUB",
        "outputId": "116dfca1-aa59-4f27-ffcb-b608fec46240"
      },
      "outputs": [
        {
          "output_type": "display_data",
          "data": {
            "text/plain": [
              "<Figure size 1440x720 with 5 Axes>"
            ],
            "image/png": "[encoded data removed]"
          },
          "metadata": {
            "needs_background": "light"
          }
        }
      ],
      "source": [
        "%matplotlib inline\n",
        "import matplotlib.pyplot as plt\n",
        "\n",
        "fig = plt.figure(figsize=(20, 10))\n",
        "for i, img in enumerate(train_img[0:5, :], 1):\n",
        "    subplot = fig.add_subplot(1, 5, i)\n",
        "    plt.imshow(img[:,:,0], cmap='gray');\n",
        "    subplot.set_title('%s' % train_label[i - 1]);"
      ]
    },
    {
      "cell_type": "markdown",
      "metadata": {
        "id": "MssFvw-p-PUB"
      },
      "source": [
        "## Разбиваем выборку на обучение и валидацию"
      ]
    },
    {
      "cell_type": "code",
      "execution_count": 28,
      "metadata": {
        "id": "C3H_546f-PUC"
      },
      "outputs": [],
      "source": [
        "from sklearn.model_selection import train_test_split\n",
        "y_train, y_val, x_train, x_val = train_test_split(\n",
        "    train_label, train_img, test_size=0.2, random_state=42)"
      ]
    },
    {
      "cell_type": "markdown",
      "metadata": {
        "id": "FjnpPir3-PUC"
      },
      "source": [
        "## Собираем сверточную сеть для обучения"
      ]
    },
    {
      "cell_type": "code",
      "execution_count": 34,
      "metadata": {
        "id": "NLvBtFnA-PUC"
      },
      "outputs": [],
      "source": [
        "model = tf.keras.models.Sequential([\n",
        "    tf.keras.layers.Conv2D(filters=6,\n",
        "                           kernel_size=(5, 5),\n",
        "                           padding='same',\n",
        "                           activation='relu',\n",
        "                           input_shape=x_train.shape[1:]),\n",
        "    tf.keras.layers.MaxPool2D(pool_size=(2, 2), padding='valid'),\n",
        "    \n",
        "    tf.keras.layers.Conv2D(filters=32, \n",
        "                           kernel_size=(5, 5),\n",
        "                           padding='same',\n",
        "                           activation='relu'),\n",
        "    tf.keras.layers.MaxPool2D(pool_size=(2, 2), padding='valid'),\n",
        "    \n",
        "    tf.keras.layers.Flatten(),\n",
        "    tf.keras.layers.Dense(32, activation='relu'),\n",
        "    tf.keras.layers.Dense(10, activation='softmax')])\n",
        "\n",
        "model.compile(optimizer='adam',\n",
        "              loss='categorical_crossentropy',\n",
        "              metrics=['accuracy'])"
      ]
    },
    {
      "cell_type": "code",
      "execution_count": 35,
      "metadata": {
        "colab": {
          "base_uri": "https://localhost:8080/"
        },
        "id": "s9Q-kgO--PUD",
        "outputId": "8a07a5d1-f99e-4482-83fb-b5ee0410aa66"
      },
      "outputs": [
        {
          "output_type": "stream",
          "name": "stdout",
          "text": [
            "Model: \"sequential_1\"\n",
            "_________________________________________________________________\n",
            " Layer (type)                Output Shape              Param #   \n",
            "=================================================================\n",
            " conv2d_14 (Conv2D)          (None, 28, 28, 6)         156       \n",
            "                                                                 \n",
            " max_pooling2d_14 (MaxPoolin  (None, 14, 14, 6)        0         \n",
            " g2D)                                                            \n",
            "                                                                 \n",
            " conv2d_15 (Conv2D)          (None, 14, 14, 32)        4832      \n",
            "                                                                 \n",
            " max_pooling2d_15 (MaxPoolin  (None, 7, 7, 32)         0         \n",
            " g2D)                                                            \n",
            "                                                                 \n",
            " flatten_7 (Flatten)         (None, 1568)              0         \n",
            "                                                                 \n",
            " dense_4 (Dense)             (None, 32)                50208     \n",
            "                                                                 \n",
            " dense_5 (Dense)             (None, 10)                330       \n",
            "                                                                 \n",
            "=================================================================\n",
            "Total params: 55,526\n",
            "Trainable params: 55,526\n",
            "Non-trainable params: 0\n",
            "_________________________________________________________________\n"
          ]
        }
      ],
      "source": [
        "model.summary()"
      ]
    },
    {
      "cell_type": "markdown",
      "metadata": {
        "id": "mdWWGVWh-PUD"
      },
      "source": [
        "## One-hot кодировка разметки"
      ]
    },
    {
      "cell_type": "code",
      "execution_count": 36,
      "metadata": {
        "id": "t53WhEJj-PUD"
      },
      "outputs": [],
      "source": [
        "y_train_labels = tf.keras.utils.to_categorical(y_train)"
      ]
    },
    {
      "cell_type": "code",
      "execution_count": 37,
      "metadata": {
        "colab": {
          "base_uri": "https://localhost:8080/"
        },
        "id": "_DDvCDWO-PUE",
        "outputId": "08de9a71-b08e-409d-cfc0-9ad717ad5e68"
      },
      "outputs": [
        {
          "output_type": "stream",
          "name": "stdout",
          "text": [
            "(33600,)\n",
            "(33600, 10)\n"
          ]
        }
      ],
      "source": [
        "print(y_train.shape)\n",
        "print(y_train_labels.shape)"
      ]
    },
    {
      "cell_type": "markdown",
      "metadata": {
        "id": "C1spRItd-PUE"
      },
      "source": [
        "## Запускаем обучение"
      ]
    },
    {
      "cell_type": "code",
      "execution_count": 38,
      "metadata": {
        "colab": {
          "base_uri": "https://localhost:8080/"
        },
        "id": "8gNQkGB0-PUE",
        "outputId": "6caa1b2d-76e1-43a2-995c-f65a02623d84"
      },
      "outputs": [
        {
          "output_type": "stream",
          "name": "stdout",
          "text": [
            "Epoch 1/5\n",
            "840/840 [==============================] - 6s 6ms/step - loss: 0.7306 - accuracy: 0.8648 - val_loss: 0.1761 - val_accuracy: 0.9485\n",
            "Epoch 2/5\n",
            "840/840 [==============================] - 5s 6ms/step - loss: 0.1113 - accuracy: 0.9670 - val_loss: 0.1219 - val_accuracy: 0.9685\n",
            "Epoch 3/5\n",
            "840/840 [==============================] - 5s 6ms/step - loss: 0.0701 - accuracy: 0.9776 - val_loss: 0.1045 - val_accuracy: 0.9731\n",
            "Epoch 4/5\n",
            "840/840 [==============================] - 5s 6ms/step - loss: 0.0560 - accuracy: 0.9826 - val_loss: 0.1476 - val_accuracy: 0.9640\n",
            "Epoch 5/5\n",
            "840/840 [==============================] - 5s 5ms/step - loss: 0.0501 - accuracy: 0.9840 - val_loss: 0.0944 - val_accuracy: 0.9783\n"
          ]
        },
        {
          "output_type": "execute_result",
          "data": {
            "text/plain": [
              "<keras.callbacks.History at 0x7f3eeb1a7b50>"
            ]
          },
          "metadata": {},
          "execution_count": 38
        }
      ],
      "source": [
        "model.fit(x_train, \n",
        "          y_train_labels,\n",
        "          batch_size=32, \n",
        "          epochs=5,\n",
        "          validation_split=0.2)"
      ]
    },
    {
      "cell_type": "markdown",
      "metadata": {
        "id": "DU8-qtD6-PUE"
      },
      "source": [
        "## Предсказываем класс объекта"
      ]
    },
    {
      "cell_type": "code",
      "execution_count": 39,
      "metadata": {
        "id": "7YOXhjXz-PUF"
      },
      "outputs": [],
      "source": [
        "y_pred = model.predict(x_val)\n",
        "y_pred_labels = np.argmax(y_pred, axis=1)"
      ]
    },
    {
      "cell_type": "markdown",
      "metadata": {
        "id": "RLqb0lu9-PUF"
      },
      "source": [
        "## Оцениваем качество решение на валидационной выборке"
      ]
    },
    {
      "cell_type": "code",
      "execution_count": 40,
      "metadata": {
        "colab": {
          "base_uri": "https://localhost:8080/"
        },
        "id": "pv3JU7Sr-PUF",
        "outputId": "c81e5dcd-4993-4e30-ac4c-7591c2f2a6c9"
      },
      "outputs": [
        {
          "output_type": "stream",
          "name": "stdout",
          "text": [
            "Accuracy: 0.9773809523809524\n"
          ]
        }
      ],
      "source": [
        "from sklearn.metrics import accuracy_score\n",
        "print('Accuracy: %s' % accuracy_score(y_val, y_pred_labels))"
      ]
    },
    {
      "cell_type": "code",
      "execution_count": 41,
      "metadata": {
        "colab": {
          "base_uri": "https://localhost:8080/"
        },
        "id": "HK_wcKkG-PUF",
        "outputId": "5bae2250-2e33-4116-8912-5f826e22d834"
      },
      "outputs": [
        {
          "output_type": "stream",
          "name": "stdout",
          "text": [
            "              precision    recall  f1-score   support\n",
            "\n",
            "         0.0       0.98      1.00      0.99       816\n",
            "         1.0       0.97      1.00      0.99       909\n",
            "         2.0       0.98      0.98      0.98       846\n",
            "         3.0       0.99      0.96      0.98       937\n",
            "         4.0       0.98      0.99      0.98       839\n",
            "         5.0       0.99      0.97      0.98       702\n",
            "         6.0       0.98      0.98      0.98       785\n",
            "         7.0       0.99      0.94      0.96       893\n",
            "         8.0       0.97      0.97      0.97       835\n",
            "         9.0       0.95      0.98      0.96       838\n",
            "\n",
            "    accuracy                           0.98      8400\n",
            "   macro avg       0.98      0.98      0.98      8400\n",
            "weighted avg       0.98      0.98      0.98      8400\n",
            "\n"
          ]
        }
      ],
      "source": [
        "from sklearn.metrics import classification_report\n",
        "print(classification_report(y_val, y_pred_labels))"
      ]
    },
    {
      "cell_type": "code",
      "execution_count": 42,
      "metadata": {
        "colab": {
          "base_uri": "https://localhost:8080/",
          "height": 496
        },
        "id": "PPljcguC-PUF",
        "outputId": "73b9e01a-d0bf-4eff-d067-d5529af4b107"
      },
      "outputs": [
        {
          "output_type": "display_data",
          "data": {
            "text/plain": [
              "<Figure size 720x576 with 2 Axes>"
            ],
            "image/png": "[encoded data removed]"
          },
          "metadata": {
            "needs_background": "light"
          }
        }
      ],
      "source": [
        "from sklearn.metrics import confusion_matrix\n",
        "cm = confusion_matrix(y_val, y_pred_labels)\n",
        "\n",
        "plt.figure(figsize=(10, 8))\n",
        "plt.imshow(cm, cmap=plt.cm.Blues)\n",
        "plt.xlabel(\"Predicted labels\")\n",
        "plt.ylabel(\"True labels\")\n",
        "plt.xticks([], [])\n",
        "plt.yticks([], [])\n",
        "plt.title('Confusion matrix ')\n",
        "plt.colorbar()\n",
        "plt.show()"
      ]
    },
    {
      "cell_type": "markdown",
      "metadata": {
        "id": "BW_fiXzo-PUG"
      },
      "source": [
        "## Визуализируем предсказания для тестовой выборки"
      ]
    },
    {
      "cell_type": "code",
      "execution_count": 43,
      "metadata": {
        "id": "cdjlRTCK-PUG"
      },
      "outputs": [],
      "source": [
        "y_pred_test = model.predict(test_img)\n",
        "y_pred_test_labels = np.argmax(y_pred_test, axis=1)"
      ]
    },
    {
      "cell_type": "code",
      "execution_count": 44,
      "metadata": {
        "colab": {
          "base_uri": "https://localhost:8080/",
          "height": 256
        },
        "id": "yWr_Ca52-PUG",
        "outputId": "ca94d2c7-9019-438f-b648-ccf06707f5a0"
      },
      "outputs": [
        {
          "output_type": "display_data",
          "data": {
            "text/plain": [
              "<Figure size 1440x720 with 5 Axes>"
            ],
            "image/png": "[encoded data removed]"
          },
          "metadata": {
            "needs_background": "light"
          }
        }
      ],
      "source": [
        "fig = plt.figure(figsize=(20, 10))\n",
        "indices = np.random.choice(range(len(test_img)), 5)\n",
        "img_prediction = zip(test_img[indices], y_pred_test_labels[indices])\n",
        "for i, (img, pred) in enumerate(img_prediction, 1):\n",
        "    subplot = fig.add_subplot(1, 5, i)\n",
        "    plt.imshow(img[...,0], cmap='gray');\n",
        "    subplot.set_title('%d' % pred);"
      ]
    },
    {
      "cell_type": "markdown",
      "metadata": {
        "id": "tinngHdI-PUG"
      },
      "source": [
        "## Готовим файл для отправки"
      ]
    },
    {
      "cell_type": "code",
      "execution_count": 45,
      "metadata": {
        "id": "AqyKGyYT-PUG"
      },
      "outputs": [],
      "source": [
        "with open('submit.txt', 'w') as dst:\n",
        "    dst.write('ImageId,Label\\n')\n",
        "    for i, p in enumerate(y_pred_test_labels, 1):\n",
        "        dst.write('%s,%d\\n' % (i, p))"
      ]
    },
    {
      "cell_type": "code",
      "execution_count": null,
      "metadata": {
        "id": "VozT2TRp-PUH"
      },
      "outputs": [],
      "source": [
        "# Your submission scored 0.96814"
      ]
    }
  ],
  "metadata": {
    "accelerator": "GPU",
    "colab": {
      "collapsed_sections": [],
      "name": "Notebook_for_lecture_3m.ipynb",
      "provenance": [],
      "include_colab_link": true
    },
    "kernelspec": {
      "display_name": "Python 3 (ipykernel)",
      "language": "python",
      "name": "python3"
    },
    "language_info": {
      "codemirror_mode": {
        "name": "ipython",
        "version": 3
      },
      "file_extension": ".py",
      "mimetype": "text/x-python",
      "name": "python",
      "nbconvert_exporter": "python",
      "pygments_lexer": "ipython3",
      "version": "3.9.7"
    }
  },
  "nbformat": 4,
  "nbformat_minor": 0
}