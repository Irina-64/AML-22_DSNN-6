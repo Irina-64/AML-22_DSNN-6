{
  "nbformat": 4,
  "nbformat_minor": 0,
  "metadata": {
    "kernelspec": {
      "display_name": "Python 3",
      "language": "python",
      "name": "python3"
    },
    "language_info": {
      "codemirror_mode": {
        "name": "ipython",
        "version": 3
      },
      "file_extension": ".py",
      "mimetype": "text/x-python",
      "name": "python",
      "nbconvert_exporter": "python",
      "pygments_lexer": "ipython3",
      "version": "3.7.3"
    },
    "colab": {
      "name": "Notebook_for_lecture_3online.ipynb",
      "provenance": [],
      "collapsed_sections": [],
      "include_colab_link": true
    },
    "accelerator": "GPU"
  },
  "cells": [
    {
      "cell_type": "markdown",
      "metadata": {
        "id": "view-in-github",
        "colab_type": "text"
      },
      "source": [
        "<a href=\"https://colab.research.google.com/github/Irina-64/AML-22_DSNN-6/blob/main/Notebook_for_lecture_3online.ipynb\" target=\"_parent\"><img src=\"https://colab.research.google.com/assets/colab-badge.svg\" alt=\"Open In Colab\"/></a>"
      ]
    },
    {
      "cell_type": "markdown",
      "metadata": {
        "id": "wam9bqBX-PT4"
      },
      "source": [
        "# Классификация MNIST сверточной сетью\n",
        "\n",
        "https://www.kaggle.com/c/digit-recognizer"
      ]
    },
    {
      "cell_type": "code",
      "metadata": {
        "id": "7GXdhb_G-vkc",
        "colab": {
          "base_uri": "https://localhost:8080/"
        },
        "outputId": "3aaec857-4826-4156-b019-8392031cc0c8"
      },
      "source": [
        "!wget https://www.dropbox.com/s/9wrovo5cugw8xdu/digit-recognizer.zip\n",
        "!unzip digit-recognizer.zip "
      ],
      "execution_count": null,
      "outputs": [
        {
          "output_type": "stream",
          "name": "stdout",
          "text": [
            "--2022-03-28 17:39:59--  https://www.dropbox.com/s/9wrovo5cugw8xdu/digit-recognizer.zip\n",
            "Resolving www.dropbox.com (www.dropbox.com)... 162.125.67.18, 2620:100:6023:18::a27d:4312\n",
            "Connecting to www.dropbox.com (www.dropbox.com)|162.125.67.18|:443... connected.\n",
            "HTTP request sent, awaiting response... 301 Moved Permanently\n",
            "Location: /s/raw/9wrovo5cugw8xdu/digit-recognizer.zip [following]\n",
            "--2022-03-28 17:40:00--  https://www.dropbox.com/s/raw/9wrovo5cugw8xdu/digit-recognizer.zip\n",
            "Reusing existing connection to www.dropbox.com:443.\n",
            "HTTP request sent, awaiting response... 302 Found\n",
            "Location: https://ucb4018623bae618b452e70e86cb.dl.dropboxusercontent.com/cd/0/inline/BiUwG3BAQlRhTJU-bzaSkg_TRC-OABY2b7Df9megulgO3J1sIgdpU_CF2FZiMGAYaHQEqsp3f0rkZEl-WBnfyQ-2gL-ujmdSvYU9y1JQtovB0PCxbbf9lRVClopXZuw2359PWFMNg1d4szzmQh6vFPbRNAhmtlx3Sp_CI3dcrRhHkQ/file# [following]\n",
            "--2022-03-28 17:40:00--  https://ucb4018623bae618b452e70e86cb.dl.dropboxusercontent.com/cd/0/inline/BiUwG3BAQlRhTJU-bzaSkg_TRC-OABY2b7Df9megulgO3J1sIgdpU_CF2FZiMGAYaHQEqsp3f0rkZEl-WBnfyQ-2gL-ujmdSvYU9y1JQtovB0PCxbbf9lRVClopXZuw2359PWFMNg1d4szzmQh6vFPbRNAhmtlx3Sp_CI3dcrRhHkQ/file\n",
            "Resolving ucb4018623bae618b452e70e86cb.dl.dropboxusercontent.com (ucb4018623bae618b452e70e86cb.dl.dropboxusercontent.com)... 162.125.67.15, 2620:100:6023:15::a27d:430f\n",
            "Connecting to ucb4018623bae618b452e70e86cb.dl.dropboxusercontent.com (ucb4018623bae618b452e70e86cb.dl.dropboxusercontent.com)|162.125.67.15|:443... connected.\n",
            "HTTP request sent, awaiting response... 302 Found\n",
            "Location: /cd/0/inline2/BiWmmA1WtgJyAxGi6Skr6FC4SKLotPiR0Zmr3TLakphIDCkZUCQs1XX63X0RfMhv3CpqFl3J2ibzWk0EPrBTJeIFPoSEurwb6SQpvNs7LH0VzS6j-U5K7LZl-no948KudnjE5vQupwESyk1osEGwV75cOKFCto6yeLfXOm_jc0aQ57wjKBRvb-0emACtaaB8N5y1xTWyVr1UDPxBsWSK_fbCQVGgW1v41-xOyJNekB5aUDd1WHpIF3jwGvL7bL1BomhygqjUGEroZ9_wBuea6Alg1SWDFdrg8lAMRqfsJpZTMECf8Hbyy1RdDEmfdjbe2rUXaNTJhMR8T9vCaWYAyieiW5nogz9esAgjN-afaeV_4gw1REyigWjK-DQz8zsfaIvi0vWHB5h7arUSIHboO5wjzx-PI8ddMfmUQnhextbJTw/file [following]\n",
            "--2022-03-28 17:40:00--  https://ucb4018623bae618b452e70e86cb.dl.dropboxusercontent.com/cd/0/inline2/BiWmmA1WtgJyAxGi6Skr6FC4SKLotPiR0Zmr3TLakphIDCkZUCQs1XX63X0RfMhv3CpqFl3J2ibzWk0EPrBTJeIFPoSEurwb6SQpvNs7LH0VzS6j-U5K7LZl-no948KudnjE5vQupwESyk1osEGwV75cOKFCto6yeLfXOm_jc0aQ57wjKBRvb-0emACtaaB8N5y1xTWyVr1UDPxBsWSK_fbCQVGgW1v41-xOyJNekB5aUDd1WHpIF3jwGvL7bL1BomhygqjUGEroZ9_wBuea6Alg1SWDFdrg8lAMRqfsJpZTMECf8Hbyy1RdDEmfdjbe2rUXaNTJhMR8T9vCaWYAyieiW5nogz9esAgjN-afaeV_4gw1REyigWjK-DQz8zsfaIvi0vWHB5h7arUSIHboO5wjzx-PI8ddMfmUQnhextbJTw/file\n",
            "Reusing existing connection to ucb4018623bae618b452e70e86cb.dl.dropboxusercontent.com:443.\n",
            "HTTP request sent, awaiting response... 200 OK\n",
            "Length: 16054568 (15M) [application/zip]\n",
            "Saving to: ‘digit-recognizer.zip’\n",
            "\n",
            "digit-recognizer.zi 100%[===================>]  15.31M  28.6MB/s    in 0.5s    \n",
            "\n",
            "2022-03-28 17:40:01 (28.6 MB/s) - ‘digit-recognizer.zip’ saved [16054568/16054568]\n",
            "\n",
            "Archive:  digit-recognizer.zip\n",
            "  inflating: sample_submission.csv   \n",
            "  inflating: test.csv                \n",
            "  inflating: train.csv               \n"
          ]
        }
      ]
    },
    {
      "cell_type": "code",
      "metadata": {
        "id": "MYMa35NN-PT-"
      },
      "source": [
        "import cv2\n",
        "import numpy as np\n",
        "import tensorflow as tf"
      ],
      "execution_count": null,
      "outputs": []
    },
    {
      "cell_type": "code",
      "metadata": {
        "id": "WGgwb7uR-PUA"
      },
      "source": [
        "train = np.loadtxt('train.csv', delimiter=',', skiprows=1)\n",
        "test = np.loadtxt('test.csv', delimiter=',', skiprows=1)"
      ],
      "execution_count": null,
      "outputs": []
    },
    {
      "cell_type": "code",
      "source": [
        "train.shape, test.shape"
      ],
      "metadata": {
        "id": "bIccGSMAKsX7",
        "colab": {
          "base_uri": "https://localhost:8080/"
        },
        "outputId": "73d087dd-3699-4d4f-8e5f-37606d9199e5"
      },
      "execution_count": null,
      "outputs": [
        {
          "output_type": "execute_result",
          "data": {
            "text/plain": [
              "((42000, 785), (28000, 784))"
            ]
          },
          "metadata": {},
          "execution_count": 4
        }
      ]
    },
    {
      "cell_type": "code",
      "metadata": {
        "id": "QYAMVz5pZOm2"
      },
      "source": [
        ""
      ],
      "execution_count": null,
      "outputs": []
    },
    {
      "cell_type": "code",
      "metadata": {
        "id": "YxCmQ8p6-PUA"
      },
      "source": [
        "# сохраняем разметку в отдельную переменную\n",
        "train_label = train[:, 0]\n",
        "\n",
        "# приводим размерность к удобному для обаботки виду\n",
        "# добавляем размерность канала\n",
        "train_img = np.resize(train[:, 1:], (train.shape[0], 28, 28, 1))\n",
        "test_img = np.resize(test, (test.shape[0], 28, 28, 1))"
      ],
      "execution_count": null,
      "outputs": []
    },
    {
      "cell_type": "code",
      "source": [
        "import matplotlib.pyplot as plt\n",
        "%matplotlib inline"
      ],
      "metadata": {
        "id": "QrUsOPV6oEoP"
      },
      "execution_count": null,
      "outputs": []
    },
    {
      "cell_type": "code",
      "metadata": {
        "id": "GbrLEH2tTnmx",
        "colab": {
          "base_uri": "https://localhost:8080/",
          "height": 282
        },
        "outputId": "45eaca0f-d821-498b-f6df-390f46a23045"
      },
      "source": [
        "plt.imshow(train_img[5000,:,:,0])"
      ],
      "execution_count": null,
      "outputs": [
        {
          "output_type": "execute_result",
          "data": {
            "text/plain": [
              "<matplotlib.image.AxesImage at 0x7f5d8ba48c50>"
            ]
          },
          "metadata": {},
          "execution_count": 12
        },
        {
          "output_type": "display_data",
          "data": {
            "text/plain": [
              "<Figure size 432x288 with 1 Axes>"
            ],
            "image/png": "[encoded data removed]"
          },
          "metadata": {
            "needs_background": "light"
          }
        }
      ]
    },
    {
      "cell_type": "markdown",
      "metadata": {
        "id": "AfJmhSd8-PUB"
      },
      "source": [
        "## Визуализируем исходные данные"
      ]
    },
    {
      "cell_type": "code",
      "metadata": {
        "id": "krOeCzpp-PUB",
        "colab": {
          "base_uri": "https://localhost:8080/",
          "height": 256
        },
        "outputId": "8c2bc47a-7e81-436f-ab8a-0ac38ac1f7ff"
      },
      "source": [
        "\n",
        "fig = plt.figure(figsize=(20, 10))\n",
        "for i, img in enumerate(train_img[0:5, :], 1):\n",
        "    subplot = fig.add_subplot(1, 5, i)\n",
        "    plt.imshow(img[:,:,0]);\n",
        "    subplot.set_title('%s' % train_label[i - 1]);"
      ],
      "execution_count": null,
      "outputs": [
        {
          "output_type": "display_data",
          "data": {
            "text/plain": [
              "<Figure size 1440x720 with 5 Axes>"
            ],
            "image/png": "[encoded data removed]"
          },
          "metadata": {
            "needs_background": "light"
          }
        }
      ]
    },
    {
      "cell_type": "markdown",
      "metadata": {
        "id": "MssFvw-p-PUB"
      },
      "source": [
        "## Разбиваем выборку на обучение и валидацию"
      ]
    },
    {
      "cell_type": "code",
      "metadata": {
        "id": "C3H_546f-PUC"
      },
      "source": [
        "from sklearn.model_selection import train_test_split\n",
        "y_train, y_val, x_train, x_val = train_test_split(\n",
        "    train_label, train_img, test_size=0.2, random_state=42)"
      ],
      "execution_count": null,
      "outputs": []
    },
    {
      "cell_type": "markdown",
      "metadata": {
        "id": "FjnpPir3-PUC"
      },
      "source": [
        "## Собираем сверточную сеть для обучения"
      ]
    },
    {
      "cell_type": "code",
      "metadata": {
        "id": "NLvBtFnA-PUC"
      },
      "source": [
        "model = tf.keras.models.Sequential([\n",
        "    tf.keras.layers.Conv2D(filters=16,\n",
        "                           kernel_size=(3, 3),\n",
        "                           padding='same',\n",
        "                           activation='relu',\n",
        "                           input_shape=x_train.shape[1:]),\n",
        "    tf.keras.layers.MaxPool2D(pool_size=(2, 2), padding='valid'),\n",
        "    \n",
        "    tf.keras.layers.Conv2D(filters=32, \n",
        "                           kernel_size=(3, 3),\n",
        "                           padding='same',\n",
        "                           activation='relu'),\n",
        "    tf.keras.layers.MaxPool2D(pool_size=(2, 2), padding='valid'),\n",
        "    \n",
        "    tf.keras.layers.Flatten(),\n",
        "    tf.keras.layers.Dense(128, activation=None),\n",
        "    tf.keras.layers.Dropout(0.5),\n",
        "    tf.keras.layers.Activation('relu'),\n",
        "    tf.keras.layers.Dense(128, activation=None),\n",
        "    tf.keras.layers.Dropout(0.5),\n",
        "    tf.keras.layers.Activation('relu'),\n",
        "    tf.keras.layers.Dense(10, activation='softmax')])\n",
        "\n",
        "model.compile(optimizer='adam',\n",
        "              loss='categorical_crossentropy',\n",
        "              metrics=['accuracy'])"
      ],
      "execution_count": null,
      "outputs": []
    },
    {
      "cell_type": "code",
      "metadata": {
        "id": "s9Q-kgO--PUD",
        "colab": {
          "base_uri": "https://localhost:8080/"
        },
        "outputId": "a1c0e22d-54aa-4b3e-8d8e-ab7c7983704b"
      },
      "source": [
        "model.summary()"
      ],
      "execution_count": null,
      "outputs": [
        {
          "output_type": "stream",
          "name": "stdout",
          "text": [
            "Model: \"sequential\"\n",
            "_________________________________________________________________\n",
            " Layer (type)                Output Shape              Param #   \n",
            "=================================================================\n",
            " conv2d (Conv2D)             (None, 28, 28, 16)        160       \n",
            "                                                                 \n",
            " max_pooling2d (MaxPooling2D  (None, 14, 14, 16)       0         \n",
            " )                                                               \n",
            "                                                                 \n",
            " conv2d_1 (Conv2D)           (None, 14, 14, 32)        4640      \n",
            "                                                                 \n",
            " max_pooling2d_1 (MaxPooling  (None, 7, 7, 32)         0         \n",
            " 2D)                                                             \n",
            "                                                                 \n",
            " flatten (Flatten)           (None, 1568)              0         \n",
            "                                                                 \n",
            " dense (Dense)               (None, 128)               200832    \n",
            "                                                                 \n",
            " dropout (Dropout)           (None, 128)               0         \n",
            "                                                                 \n",
            " activation (Activation)     (None, 128)               0         \n",
            "                                                                 \n",
            " dense_1 (Dense)             (None, 128)               16512     \n",
            "                                                                 \n",
            " dropout_1 (Dropout)         (None, 128)               0         \n",
            "                                                                 \n",
            " activation_1 (Activation)   (None, 128)               0         \n",
            "                                                                 \n",
            " dense_2 (Dense)             (None, 10)                1290      \n",
            "                                                                 \n",
            "=================================================================\n",
            "Total params: 223,434\n",
            "Trainable params: 223,434\n",
            "Non-trainable params: 0\n",
            "_________________________________________________________________\n"
          ]
        }
      ]
    },
    {
      "cell_type": "markdown",
      "metadata": {
        "id": "mdWWGVWh-PUD"
      },
      "source": [
        "## One-hot кодировка разметки"
      ]
    },
    {
      "cell_type": "code",
      "metadata": {
        "id": "OTfb5mbVa0Gx",
        "colab": {
          "base_uri": "https://localhost:8080/"
        },
        "outputId": "1db50e08-adf5-49b2-b1ea-5da24a6b390b"
      },
      "source": [
        "y_train[:3]"
      ],
      "execution_count": null,
      "outputs": [
        {
          "output_type": "execute_result",
          "data": {
            "text/plain": [
              "array([6., 5., 3.])"
            ]
          },
          "metadata": {},
          "execution_count": 21
        }
      ]
    },
    {
      "cell_type": "code",
      "metadata": {
        "id": "t53WhEJj-PUD"
      },
      "source": [
        "y_train_labels = tf.keras.utils.to_categorical(y_train)"
      ],
      "execution_count": null,
      "outputs": []
    },
    {
      "cell_type": "code",
      "metadata": {
        "id": "8i4mv6t8a23e",
        "colab": {
          "base_uri": "https://localhost:8080/"
        },
        "outputId": "8220b8a2-4227-4788-cacd-780a0191b765"
      },
      "source": [
        "y_train_labels[:3]"
      ],
      "execution_count": null,
      "outputs": [
        {
          "output_type": "execute_result",
          "data": {
            "text/plain": [
              "array([[0., 0., 0., 0., 0., 0., 1., 0., 0., 0.],\n",
              "       [0., 0., 0., 0., 0., 1., 0., 0., 0., 0.],\n",
              "       [0., 0., 0., 1., 0., 0., 0., 0., 0., 0.]], dtype=float32)"
            ]
          },
          "metadata": {},
          "execution_count": 20
        }
      ]
    },
    {
      "cell_type": "code",
      "metadata": {
        "colab": {
          "base_uri": "https://localhost:8080/"
        },
        "id": "loiquTqaUm-N",
        "outputId": "049bb645-a284-4f70-8e40-1218c4c198ce"
      },
      "source": [
        "y_train_labels[2]"
      ],
      "execution_count": null,
      "outputs": [
        {
          "output_type": "execute_result",
          "data": {
            "text/plain": [
              "array([0., 0., 0., 1., 0., 0., 0., 0., 0., 0.], dtype=float32)"
            ]
          },
          "metadata": {},
          "execution_count": 17
        }
      ]
    },
    {
      "cell_type": "code",
      "metadata": {
        "id": "_DDvCDWO-PUE",
        "colab": {
          "base_uri": "https://localhost:8080/"
        },
        "outputId": "36a6115d-793d-44b7-c22d-e623247ef494"
      },
      "source": [
        "print(y_train.shape)\n",
        "print(y_train_labels.shape)"
      ],
      "execution_count": null,
      "outputs": [
        {
          "output_type": "stream",
          "name": "stdout",
          "text": [
            "(33600,)\n",
            "(33600, 10)\n"
          ]
        }
      ]
    },
    {
      "cell_type": "markdown",
      "metadata": {
        "id": "C1spRItd-PUE"
      },
      "source": [
        "## Запускаем обучение"
      ]
    },
    {
      "cell_type": "code",
      "metadata": {
        "id": "8gNQkGB0-PUE",
        "colab": {
          "base_uri": "https://localhost:8080/"
        },
        "outputId": "99098b57-ec41-46d2-fac7-d9c069b7d519"
      },
      "source": [
        "model.fit(x_train, \n",
        "          y_train_labels,\n",
        "          batch_size=32, \n",
        "          epochs=5,\n",
        "          validation_split=0.2)"
      ],
      "execution_count": null,
      "outputs": [
        {
          "output_type": "stream",
          "name": "stdout",
          "text": [
            "Epoch 1/5\n",
            "840/840 [==============================] - 15s 7ms/step - loss: 1.6406 - accuracy: 0.5703 - val_loss: 0.4891 - val_accuracy: 0.8665\n",
            "Epoch 2/5\n",
            "840/840 [==============================] - 5s 6ms/step - loss: 0.6858 - accuracy: 0.7874 - val_loss: 0.2447 - val_accuracy: 0.9568\n",
            "Epoch 3/5\n",
            "840/840 [==============================] - 5s 6ms/step - loss: 0.5213 - accuracy: 0.8413 - val_loss: 0.2009 - val_accuracy: 0.9649\n",
            "Epoch 4/5\n",
            "840/840 [==============================] - 5s 6ms/step - loss: 0.3816 - accuracy: 0.8927 - val_loss: 0.1628 - val_accuracy: 0.9674\n",
            "Epoch 5/5\n",
            "840/840 [==============================] - 5s 6ms/step - loss: 0.3142 - accuracy: 0.9122 - val_loss: 0.1430 - val_accuracy: 0.9720\n"
          ]
        },
        {
          "output_type": "execute_result",
          "data": {
            "text/plain": [
              "<keras.callbacks.History at 0x7f5d8b491410>"
            ]
          },
          "metadata": {},
          "execution_count": 23
        }
      ]
    },
    {
      "cell_type": "markdown",
      "metadata": {
        "id": "DU8-qtD6-PUE"
      },
      "source": [
        "## Предсказываем класс объекта"
      ]
    },
    {
      "cell_type": "code",
      "metadata": {
        "id": "7YOXhjXz-PUF"
      },
      "source": [
        "y_pred = model.predict(x_val)\n",
        "y_pred_labels = np.argmax(y_pred, axis=1)"
      ],
      "execution_count": null,
      "outputs": []
    },
    {
      "cell_type": "markdown",
      "metadata": {
        "id": "RLqb0lu9-PUF"
      },
      "source": [
        "## Оцениваем качество решение на валидационной выборке"
      ]
    },
    {
      "cell_type": "code",
      "metadata": {
        "id": "pv3JU7Sr-PUF",
        "colab": {
          "base_uri": "https://localhost:8080/"
        },
        "outputId": "82b694ef-dc47-4c7a-8e0f-53d37a36886e"
      },
      "source": [
        "from sklearn.metrics import accuracy_score\n",
        "print('Accuracy: %s' % accuracy_score(y_val, y_pred_labels))"
      ],
      "execution_count": null,
      "outputs": [
        {
          "output_type": "stream",
          "name": "stdout",
          "text": [
            "Accuracy: 0.9705952380952381\n"
          ]
        }
      ]
    },
    {
      "cell_type": "code",
      "metadata": {
        "id": "HK_wcKkG-PUF",
        "colab": {
          "base_uri": "https://localhost:8080/"
        },
        "outputId": "48bccfae-91f1-4e75-fb22-7ca51d7b1942"
      },
      "source": [
        "from sklearn.metrics import classification_report\n",
        "print(classification_report(y_val, y_pred_labels))"
      ],
      "execution_count": null,
      "outputs": [
        {
          "output_type": "stream",
          "name": "stdout",
          "text": [
            "              precision    recall  f1-score   support\n",
            "\n",
            "         0.0       0.98      0.99      0.98       816\n",
            "         1.0       0.98      0.99      0.99       909\n",
            "         2.0       0.98      0.97      0.98       846\n",
            "         3.0       0.99      0.94      0.97       937\n",
            "         4.0       0.98      0.98      0.98       839\n",
            "         5.0       0.98      0.96      0.97       702\n",
            "         6.0       0.98      0.99      0.98       785\n",
            "         7.0       0.99      0.97      0.98       893\n",
            "         8.0       0.92      0.94      0.93       835\n",
            "         9.0       0.94      0.98      0.96       838\n",
            "\n",
            "    accuracy                           0.97      8400\n",
            "   macro avg       0.97      0.97      0.97      8400\n",
            "weighted avg       0.97      0.97      0.97      8400\n",
            "\n"
          ]
        }
      ]
    },
    {
      "cell_type": "code",
      "metadata": {
        "id": "PPljcguC-PUF",
        "colab": {
          "base_uri": "https://localhost:8080/",
          "height": 496
        },
        "outputId": "e4429e08-99ce-4b7c-a182-ec266f69c1b2"
      },
      "source": [
        "from sklearn.metrics import confusion_matrix\n",
        "cm = confusion_matrix(y_val, y_pred_labels)\n",
        "\n",
        "plt.figure(figsize=(10, 8))\n",
        "plt.imshow(cm, cmap=plt.cm.Blues)\n",
        "plt.xlabel(\"Predicted labels\")\n",
        "plt.ylabel(\"True labels\")\n",
        "plt.xticks([], [])\n",
        "plt.yticks([], [])\n",
        "plt.title('Confusion matrix ')\n",
        "plt.colorbar()\n",
        "plt.show()"
      ],
      "execution_count": null,
      "outputs": [
        {
          "output_type": "display_data",
          "data": {
            "text/plain": [
              "<Figure size 720x576 with 2 Axes>"
            ],
            "image/png": "[encoded data removed]"
          },
          "metadata": {
            "needs_background": "light"
          }
        }
      ]
    },
    {
      "cell_type": "markdown",
      "metadata": {
        "id": "BW_fiXzo-PUG"
      },
      "source": [
        "## Визуализируем предсказания для тестовой выборки"
      ]
    },
    {
      "cell_type": "code",
      "metadata": {
        "id": "cdjlRTCK-PUG"
      },
      "source": [
        "y_pred_test = model.predict(test_img)\n",
        "y_pred_test_labels = np.argmax(y_pred_test, axis=1)"
      ],
      "execution_count": null,
      "outputs": []
    },
    {
      "cell_type": "code",
      "metadata": {
        "id": "yWr_Ca52-PUG"
      },
      "source": [
        "fig = plt.figure(figsize=(20, 10))\n",
        "indices = np.random.choice(range(len(test_img)), 5)\n",
        "img_prediction = zip(test_img[indices], y_pred_test_labels[indices])\n",
        "for i, (img, pred) in enumerate(img_prediction, 1):\n",
        "    subplot = fig.add_subplot(1, 5, i)\n",
        "    plt.imshow(img[...,0], cmap='gray');\n",
        "    subplot.set_title('%d' % pred);"
      ],
      "execution_count": null,
      "outputs": []
    },
    {
      "cell_type": "markdown",
      "metadata": {
        "id": "tinngHdI-PUG"
      },
      "source": [
        "## Готовим файл для отправки"
      ]
    },
    {
      "cell_type": "code",
      "metadata": {
        "id": "AqyKGyYT-PUG"
      },
      "source": [
        "with open('submit.txt', 'w') as dst:\n",
        "    dst.write('ImageId,Label\\n')\n",
        "    for i, p in enumerate(y_pred_test_labels, 1):\n",
        "        dst.write('%s,%d\\n' % (i, p))"
      ],
      "execution_count": null,
      "outputs": []
    },
    {
      "cell_type": "code",
      "metadata": {
        "id": "VozT2TRp-PUH"
      },
      "source": [
        "# Your submission scored 0.96814"
      ],
      "execution_count": null,
      "outputs": []
    },
    {
      "cell_type": "code",
      "metadata": {
        "colab": {
          "base_uri": "https://localhost:8080/"
        },
        "id": "E2aSFG5Tc1gP",
        "outputId": "c74e5c0e-1ec2-4945-e986-b554ac1f57da"
      },
      "source": [
        "tf.test.is_gpu_available()"
      ],
      "execution_count": null,
      "outputs": [
        {
          "output_type": "stream",
          "name": "stdout",
          "text": [
            "WARNING:tensorflow:From <ipython-input-28-17bb7203622b>:1: is_gpu_available (from tensorflow.python.framework.test_util) is deprecated and will be removed in a future version.\n",
            "Instructions for updating:\n",
            "Use `tf.config.list_physical_devices('GPU')` instead.\n"
          ]
        },
        {
          "output_type": "execute_result",
          "data": {
            "text/plain": [
              "True"
            ]
          },
          "metadata": {},
          "execution_count": 28
        }
      ]
    },
    {
      "cell_type": "code",
      "source": [
        "tf.config.list_physical_devices()"
      ],
      "metadata": {
        "colab": {
          "base_uri": "https://localhost:8080/"
        },
        "id": "cHqicy9vp0S6",
        "outputId": "c8505799-d6c5-49e8-b33e-33e8381c3322"
      },
      "execution_count": null,
      "outputs": [
        {
          "output_type": "execute_result",
          "data": {
            "text/plain": [
              "[PhysicalDevice(name='/physical_device:CPU:0', device_type='CPU'),\n",
              " PhysicalDevice(name='/physical_device:GPU:0', device_type='GPU')]"
            ]
          },
          "metadata": {},
          "execution_count": 30
        }
      ]
    },
    {
      "cell_type": "code",
      "metadata": {
        "colab": {
          "base_uri": "https://localhost:8080/"
        },
        "id": "dtvdwGcgc4AN",
        "outputId": "00d33c31-82ff-4520-b45e-1119f9f5dd4f"
      },
      "source": [
        "!nvidia-smi"
      ],
      "execution_count": null,
      "outputs": [
        {
          "output_type": "stream",
          "name": "stdout",
          "text": [
            "Mon Mar 28 17:51:49 2022       \n",
            "+-----------------------------------------------------------------------------+\n",
            "| NVIDIA-SMI 460.32.03    Driver Version: 460.32.03    CUDA Version: 11.2     |\n",
            "|-------------------------------+----------------------+----------------------+\n",
            "| GPU  Name        Persistence-M| Bus-Id        Disp.A | Volatile Uncorr. ECC |\n",
            "| Fan  Temp  Perf  Pwr:Usage/Cap|         Memory-Usage | GPU-Util  Compute M. |\n",
            "|                               |                      |               MIG M. |\n",
            "|===============================+======================+======================|\n",
            "|   0  Tesla K80           Off  | 00000000:00:04.0 Off |                    0 |\n",
            "| N/A   47C    P0    57W / 149W |    541MiB / 11441MiB |      0%      Default |\n",
            "|                               |                      |                  N/A |\n",
            "+-------------------------------+----------------------+----------------------+\n",
            "                                                                               \n",
            "+-----------------------------------------------------------------------------+\n",
            "| Processes:                                                                  |\n",
            "|  GPU   GI   CI        PID   Type   Process name                  GPU Memory |\n",
            "|        ID   ID                                                   Usage      |\n",
            "|=============================================================================|\n",
            "+-----------------------------------------------------------------------------+\n"
          ]
        }
      ]
    },
    {
      "cell_type": "code",
      "metadata": {
        "id": "LL6CXqsec9Q1"
      },
      "source": [
        ""
      ],
      "execution_count": null,
      "outputs": []
    }
  ]
}